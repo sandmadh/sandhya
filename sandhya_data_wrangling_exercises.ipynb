{
 "cells": [
  {
   "cell_type": "code",
   "execution_count": null,
   "metadata": {},
   "outputs": [],
   "source": [
    "#Ex 1: Find the 10 countries with most projects"
   ]
  },
  {
   "cell_type": "code",
   "execution_count": 3,
   "metadata": {},
   "outputs": [],
   "source": [
    "import pandas as pd                                                  #import pandas\n",
    "import json                                                          #import json\n",
    "from pandas.io.json import json_normalize                            \n",
    "\n",
    "with open('data/world_bank_projects.json') as data_file:             #load json file\n",
    "    data = json.load(data_file)\n",
    "\n",
    "df = pd.io.json.json_normalize(data)                                 #normalise the tables\n"
   ]
  },
  {
   "cell_type": "code",
   "execution_count": 4,
   "metadata": {},
   "outputs": [
    {
     "name": "stdout",
     "output_type": "stream",
     "text": [
      "Following are the coutries with most project in descending order\n"
     ]
    },
    {
     "data": {
      "text/plain": [
       "Republic of Indonesia              19\n",
       "People's Republic of China         19\n",
       "Socialist Republic of Vietnam      17\n",
       "Republic of India                  16\n",
       "Republic of Yemen                  13\n",
       "Nepal                              12\n",
       "People's Republic of Bangladesh    12\n",
       "Kingdom of Morocco                 12\n",
       "Republic of Mozambique             11\n",
       "Africa                             11\n",
       "Name: countryname, dtype: int64"
      ]
     },
     "execution_count": 4,
     "metadata": {},
     "output_type": "execute_result"
    }
   ],
   "source": [
    "countries_df = df[['countrycode','countryname', 'project_name']]      # read the data of select columns in a dataframe\n",
    "\n",
    "\"\"\"use value_counts() on the above dataframe using countryname \n",
    "   gives the count of projects countrywise in descending order\n",
    "\"\"\"\n",
    "top10coountries_df = countries_df['countryname'].value_counts()   \n",
    "print(\"Following are the coutries with most project in descending order\")\n",
    "top10coountries_df.head(10)"
   ]
  },
  {
   "cell_type": "code",
   "execution_count": null,
   "metadata": {},
   "outputs": [],
   "source": [
    "#Exercise 2: Find the top 10 major project themes (using column 'mjtheme_namecode')"
   ]
  },
  {
   "cell_type": "code",
   "execution_count": 8,
   "metadata": {},
   "outputs": [
    {
     "name": "stdout",
     "output_type": "stream",
     "text": [
      "Follwing are the top 10 major project themes\n"
     ]
    },
    {
     "data": {
      "text/plain": [
       "Environment and natural resources management    223\n",
       "Rural development                               202\n",
       "Human development                               197\n",
       "Public sector governance                        184\n",
       "Social protection and risk management           158\n",
       "Financial and private sector development        130\n",
       "                                                122\n",
       "Social dev/gender/inclusion                     119\n",
       "Trade and integration                            72\n",
       "Urban development                                47\n",
       "Name: name, dtype: int64"
      ]
     },
     "execution_count": 8,
     "metadata": {},
     "output_type": "execute_result"
    }
   ],
   "source": [
    "#the column mjtheme_namecode contains each row as series of tuples with code and name variables\n",
    "#a new dataframe is created with code and name:theme_namecode_df\n",
    "theme_namecode_df = pd.DataFrame(columns=['code', 'name'])\n",
    "\n",
    "#for each row  the row is normalised and appended to the dataframe created above \n",
    "for row in df['mjtheme_namecode']:\n",
    "    theme_namecode_df = theme_namecode_df.append(json_normalize(row))\n",
    "theme_namecode_df.reset_index(drop=True, inplace=True)\n",
    "#using value_count on theme_namecode_df using 'name' column the no of projects themewise to be found: top10projects\n",
    "top10projects = theme_namecode_df['name'].value_counts()\n",
    "\n",
    "print(\"Follwing are the top 10 major project themes\")\n",
    "top10projects.head(10)"
   ]
  },
  {
   "cell_type": "code",
   "execution_count": null,
   "metadata": {},
   "outputs": [],
   "source": []
  },
  {
   "cell_type": "code",
   "execution_count": null,
   "metadata": {},
   "outputs": [],
   "source": [
    "#Ex3 In 2. above you will notice that some entries have only the code and the name is missing. \n",
    "#Create a dataframe with the missing names filled in.\n"
   ]
  },
  {
   "cell_type": "code",
   "execution_count": 22,
   "metadata": {},
   "outputs": [
    {
     "name": "stdout",
     "output_type": "stream",
     "text": [
      "The no of entries which have only the code and the name is missing: \n",
      "122\n"
     ]
    }
   ],
   "source": [
    "print('The no of entries which have only the code and the name is missing: ')\n",
    "print(len(theme_namecode_df[theme_namecode_df['name'] == '']))"
   ]
  },
  {
   "cell_type": "code",
   "execution_count": 27,
   "metadata": {},
   "outputs": [
    {
     "name": "stdout",
     "output_type": "stream",
     "text": [
      "{'8': 'Human development', '1': 'Economic management', '6': 'Social protection and risk management', '5': 'Trade and integration', '2': 'Public sector governance', '11': 'Environment and natural resources management', '7': 'Social dev/gender/inclusion', '4': 'Financial and private sector development', '10': 'Rural development', '9': 'Urban development', '3': 'Rule of law'}\n"
     ]
    }
   ],
   "source": [
    "#create a dictionary to map theses names and codes : code_names\n",
    "\n",
    "code_names = {}\n",
    "\n",
    "for row in theme_namecode_df.itertuples():\n",
    "    if (getattr(row, 'name')!= ''):\n",
    "        code_names[row[1]]= getattr(row, 'name')\n",
    "print(code_names)"
   ]
  },
  {
   "cell_type": "code",
   "execution_count": 28,
   "metadata": {},
   "outputs": [],
   "source": [
    "#filling the missing values using the dictionary code_names\n",
    "\n",
    "for row in theme_namecode_df.itertuples():\n",
    "    if (getattr(row, 'name')== ''):\n",
    "           theme_namecode_df.at[row[0],'name'] = code_names[row[1]]"
   ]
  },
  {
   "cell_type": "code",
   "execution_count": 29,
   "metadata": {},
   "outputs": [
    {
     "name": "stdout",
     "output_type": "stream",
     "text": [
      "After mapping :the no of entries which have only the code and the name is missing: \n",
      "0\n"
     ]
    }
   ],
   "source": [
    "print('After mapping :the no of entries which have only the code and the name is missing: ')\n",
    "print(len(theme_namecode_df[theme_namecode_df['name'] == '']))"
   ]
  },
  {
   "cell_type": "code",
   "execution_count": 30,
   "metadata": {},
   "outputs": [
    {
     "name": "stdout",
     "output_type": "stream",
     "text": [
      "Follwing are the top 10 major project themes\n"
     ]
    },
    {
     "data": {
      "text/plain": [
       "Environment and natural resources management    250\n",
       "Rural development                               216\n",
       "Human development                               210\n",
       "Public sector governance                        199\n",
       "Social protection and risk management           168\n",
       "Financial and private sector development        146\n",
       "Social dev/gender/inclusion                     130\n",
       "Trade and integration                            77\n",
       "Urban development                                50\n",
       "Economic management                              38\n",
       "Name: name, dtype: int64"
      ]
     },
     "execution_count": 30,
     "metadata": {},
     "output_type": "execute_result"
    }
   ],
   "source": [
    "top10projects_aftermap_df = theme_namecode_df['name'].value_counts()\n",
    "\n",
    "print(\"After mapping the missing values follwing are the top 10 major project themes\")\n",
    "top10projects_aftermap_df.head(10)"
   ]
  },
  {
   "cell_type": "code",
   "execution_count": null,
   "metadata": {},
   "outputs": [],
   "source": []
  }
 ],
 "metadata": {
  "kernelspec": {
   "display_name": "Python 3",
   "language": "python",
   "name": "python3"
  },
  "language_info": {
   "codemirror_mode": {
    "name": "ipython",
    "version": 3
   },
   "file_extension": ".py",
   "mimetype": "text/x-python",
   "name": "python",
   "nbconvert_exporter": "python",
   "pygments_lexer": "ipython3",
   "version": "3.7.3"
  }
 },
 "nbformat": 4,
 "nbformat_minor": 2
}
