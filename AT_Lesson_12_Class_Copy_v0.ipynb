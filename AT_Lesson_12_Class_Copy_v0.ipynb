{
  "nbformat": 4,
  "nbformat_minor": 0,
  "metadata": {
    "colab": {
      "name": "AT - Lesson 12 - Class Copy - v0",
      "provenance": [],
      "collapsed_sections": [],
      "include_colab_link": true
    },
    "kernelspec": {
      "name": "python3",
      "display_name": "Python 3"
    }
  },
  "cells": [
    {
      "cell_type": "markdown",
      "metadata": {
        "id": "view-in-github",
        "colab_type": "text"
      },
      "source": [
        "<a href=\"https://colab.research.google.com/github/sandmadh/sandhya/blob/master/AT_Lesson_12_Class_Copy_v0.ipynb\" target=\"_parent\"><img src=\"https://colab.research.google.com/assets/colab-badge.svg\" alt=\"Open In Colab\"/></a>"
      ]
    },
    {
      "cell_type": "markdown",
      "metadata": {
        "id": "gGOahF4k7-t2",
        "colab_type": "text"
      },
      "source": [
        "# Lesson 12: Mind Reader Game - Claude Shannon's Algorithm II"
      ]
    },
    {
      "cell_type": "markdown",
      "metadata": {
        "id": "FeyN19o4gC_P",
        "colab_type": "text"
      },
      "source": [
        "### Teacher-Student Activities\n",
        "\n",
        "\n",
        "In the previous class, we completed half of Claude Shannon's \"A Mind Reading Machine\" based algorithm.\n",
        "\n",
        "\n",
        "As a quick recap, in this algorithm:\n",
        "\n",
        "1. The computer looks for certain patterns in the player inputs (`Heads` or `Tails`) and tries to remember them. Furthermore, it assumes that the player will follow these patterns the next time if the same situation arises. \n",
        "\n",
        "2. If an assumed pattern is not repeated at least twice by the player, the machine predicts `Heads` or `Tails` randomly.\n",
        "\n",
        "The types of patterns remembered, involve the outcome of two successive plays, i.e., whether or not the player won on those plays and whether the player changed their choice between the plays and after the plays. \n",
        "\n",
        "There are 8 possible situations and, for each situation, a player can do two things. These 8 situations are:\n",
        "\n",
        "1. The player **wins**, plays the **same** and **wins** again. The player then plays the same or plays differently.\n",
        "\n",
        "2. The player **wins**, plays the **same** and **loses**. The player then plays the same or plays differently.\n",
        "\n",
        "3. The player **wins**, plays **differently** and **wins** again. The player then plays the same or plays differently.\n",
        "\n",
        "4. The player **wins**, plays **differently** and **loses**. The player then plays the same or plays differently.\n",
        "\n",
        "5. The player **loses**, plays the **same** and **wins**. The player then plays the same or plays differently.\n",
        "\n",
        "6. The player **loses**, plays the **same** and **loses** again. The player then plays the same or plays differently.\n",
        "\n",
        "7. The player **loses**, plays **differently** and **wins**. The player then plays the same or plays differently.\n",
        "\n",
        "8. The player **loses**, plays **differently** and **loses** again. The player then plays the same or plays differently.\n",
        "\n",
        "Each situation corresponds to a different cell in the memory of a machine. Within a cell, two events are registered:\n",
        "\n",
        "1. Whether the last time this situation arose, the player played the same or different.\n",
        "\n",
        "2. Whether or not the behaviour indicated in the first point, was a repeat of the same behaviour in the preceding situation. \n",
        "\n",
        "We created a three-dimensional NumPy array having 2 blocks, 2 rows and 2 columns to keep track of the last two player inputs and the current player input.\n",
        "\n",
        "```\n",
        "[[[0, 0],\n",
        "  [0, 0]],\n",
        "\n",
        " [[0, 0],\n",
        "  [0, 0]]]\n",
        "```\n",
        "\n",
        "So, for a combination of the last two player inputs and the current player input, if a situation is repeated then we will store `1` in the second column of the array otherwise, we will store `0`. \n",
        "\n",
        "Let's quickly run the codes for the activities that were covered in the last class and begin this class from **Activity 1: The `update_scores()` Function**"
      ]
    },
    {
      "cell_type": "markdown",
      "metadata": {
        "id": "l_ahJm30UqfP",
        "colab_type": "text"
      },
      "source": [
        "---"
      ]
    },
    {
      "cell_type": "markdown",
      "metadata": {
        "id": "6D8fIaMVC6dM",
        "colab_type": "text"
      },
      "source": [
        "#### Last Two Players Inputs\n",
        "\n",
        "The `last_1` and `last_2` variables keep track of the last two inputs of a player. "
      ]
    },
    {
      "cell_type": "code",
      "metadata": {
        "id": "HoQ6NypDBUaO",
        "colab_type": "code",
        "colab": {}
      },
      "source": [
        "# Create two variables; 'last_1' and 'last_2' with 0 as their initial values.\n",
        "last_1 = 0\n",
        "last_2 = 0"
      ],
      "execution_count": null,
      "outputs": []
    },
    {
      "cell_type": "markdown",
      "metadata": {
        "id": "M6zlCpmnxc8L",
        "colab_type": "text"
      },
      "source": [
        "\n",
        "- `last_1` stores the last player input. \n",
        "\n",
        "- `last_2` stores the second-last player input.\n"
      ]
    },
    {
      "cell_type": "markdown",
      "metadata": {
        "id": "nYg8ypDcMCnt",
        "colab_type": "text"
      },
      "source": [
        "\n",
        "\n",
        "---"
      ]
    },
    {
      "cell_type": "markdown",
      "metadata": {
        "id": "N3o05TxC_u4b",
        "colab_type": "text"
      },
      "source": [
        "#### The `inputs` Array"
      ]
    },
    {
      "cell_type": "code",
      "metadata": {
        "id": "rRxf3tCIAMUZ",
        "colab_type": "code",
        "colab": {}
      },
      "source": [
        "# Create a 3D NumPy array of size (2, 2, 2) whose all the elements are 0.\n",
        "import numpy as np\n",
        "\n",
        "inputs = np.zeros(shape=(2, 2, 2), dtype=int)\n",
        "inputs"
      ],
      "execution_count": null,
      "outputs": []
    },
    {
      "cell_type": "markdown",
      "metadata": {
        "id": "UdJPOfrTaLvx",
        "colab_type": "text"
      },
      "source": [
        "The `inputs` array acts as a memory for the Mind Reader game. \n",
        "\n",
        "- The first column (`column_index = 0`) of the `inputs` array will store the current player input.\n",
        "\n",
        "- The second column (`column_index = 1`) will store whether a situation (out of the 8 possible situations) is repeated or not. The 8 possible situations are:\n",
        "\n",
        "|Situation|Second-Last Play|Last Play|Current Player Input|\n",
        "|-|-|-|-|\n",
        "|1.|`0`|`0`|`0`|\n",
        "|2.|`0`|`0`|`1`|\n",
        "|3.|`0`|`1`|`0`|\n",
        "|4.|`0`|`1`|`1`|\n",
        "|5.|`1`|`0`|`0`|\n",
        "|6.|`1`|`0`|`1`|\n",
        "|7.|`1`|`1`|`0`|\n",
        "|8.|`1`|`1`|`1`|\n",
        "\n",
        "where `0` denotes `Heads` and `1` denotes `Tails`.\n",
        "\n",
        "The blocks in the `inputs` array denote the second-last play. \n",
        "\n",
        "- If `last_2 = 0`, then the `last_1` value will go to the first/second row of the **first** block.\n",
        "\n",
        "- If `last_2 = 1`, then the `last_1` value will go to the first/second row of the **second** block.\n",
        "\n",
        "<img src = 'https://student-datasets-bucket.s3.ap-south-1.amazonaws.com/images/inputs_array.png' width=600>\n",
        "\n",
        "At a time, the **current player input** will either go to the first block or second block because the second-last play would either be `0` or `1`.\n",
        "\n",
        "Here are the possible ways in which the current player inputs will be recorded in the first block.\n",
        "\n",
        "1. All the items in the first column are `0`.\n",
        "\n",
        "  ```\n",
        "  [[0, is_a_repeat],\n",
        "    [0, is_a_repeat]]\n",
        "  ```\n",
        "\n",
        "2. The item in the first row and first column is `0` but the item in the second row and the first column is `1`.\n",
        "\n",
        "  ```\n",
        "  [[0, is_a_repeat],\n",
        "    [1, is_a_repeat]]\n",
        "  ```\n",
        "\n",
        "3. The item in the first row and first column is `1` but the item in the second row and the first column is `0`.\n",
        "\n",
        "  ```\n",
        "  [[1, is_a_repeat],\n",
        "    [0, is_a_repeat]]\n",
        "  ```\n",
        "\n",
        "4. All the items in the first column are `1`.\n",
        "\n",
        "  ```\n",
        "  [[1, is_a_repeat],\n",
        "    [1, is_a_repeat]]\n",
        "  ```\n",
        "\n",
        "The value of `is_a_repeat` is either `0` or `1`.\n",
        "\n",
        "  - The value `0` or `1` in the first column represents whether the player played `Heads` or `Tails`, respectively, in the last attempt.\n",
        "  \n",
        "  - The value `0` or `1` in the second column represents whether a situation (a combination of `last_2, last_1` and current player input) is repeated or not. The value `0` means the situation is NOT repeated and `1` means the situation is repeated.\n",
        "\n",
        "The second block will also have the exact same possibilities."
      ]
    },
    {
      "cell_type": "markdown",
      "metadata": {
        "id": "uwQW2KgKcu6B",
        "colab_type": "text"
      },
      "source": [
        "---"
      ]
    },
    {
      "cell_type": "markdown",
      "metadata": {
        "id": "Vfeuw23lVCxW",
        "colab_type": "text"
      },
      "source": [
        "#### The `update_inputs()` Function\n",
        "\n",
        "Update the entries of the `inputs` array by creating the `update_inputs()` function. It should take `current` player input as an input and should not return anything. It should just update the player inputs in the `inputs` array.\n",
        "\n",
        "For a row in a block, if an item in the $1^{st}$ column is the same as the `current` player input, then set the value in the $2^{nd}$ column equal to `1`, and set the value in the $1^{st}$ column equal to the `current` player input.\n",
        "\n",
        "```\n",
        "if inputs[last_2][last_1][0] == current:\n",
        "    inputs[last_2][last_1][1] = 1 \n",
        "    inputs[last_2][last_1][0] = current\n",
        "```\n",
        "\n",
        "Otherwise, set the value in the $2^{nd}$ column equal to `0` and set the value in the $1^{st}$ column equal to the `current` value.\n",
        "\n",
        "```\n",
        "inputs[last_2][last_1][1] = 0 \n",
        "    inputs[last_2][last_1][0] = current\n",
        "```\n",
        "\n",
        "Then, the `current` value should become the `last_1` value and the `last_1` value should become the `last_2` value.\n",
        "\n",
        "```\n",
        "  last_2 = last_1 \n",
        "  last_1 = current \n",
        "```"
      ]
    },
    {
      "cell_type": "code",
      "metadata": {
        "id": "Dms5n1NhMZAi",
        "colab_type": "code",
        "colab": {}
      },
      "source": [
        "# Create the 'update_inputs()' function.\n",
        "def update_inputs(current):\n",
        "  if inputs[last_2][last_1][0] == current:\n",
        "    inputs[last_2][last_1][1] = 1 \n",
        "    inputs[last_2][last_1][0] = current\n",
        "  else:\n",
        "    inputs[last_2][last_1][1] = 0 \n",
        "    inputs[last_2][last_1][0] = current\n",
        " \n",
        "  last_2 = last_1 \n",
        "  last_1 = current "
      ],
      "execution_count": null,
      "outputs": []
    },
    {
      "cell_type": "markdown",
      "metadata": {
        "id": "KwG1KuUsc2iP",
        "colab_type": "text"
      },
      "source": [
        "---"
      ]
    },
    {
      "cell_type": "markdown",
      "metadata": {
        "id": "cTIIPwaQYse1",
        "colab_type": "text"
      },
      "source": [
        "#### The `prediction()` Function\n",
        "\n",
        "Create the `prediction()` function to allow a computer to make predictions based on the player inputs in the last two plays.\n",
        "\n",
        "For a row in a block, if the value in the $2^{nd}$ column is `1`, then the `prediction()` function should return the item stored in the $1^{st}$ column as the predicted value. \n",
        "\n",
        "```\n",
        "if inputs[last_2][last_1][1] == 1: \n",
        "    predict = inputs[last_2][last_1][0]\n",
        "```\n",
        "\n",
        "Else, either return `0` or `1` randomly as the predicted value.\n",
        "\n",
        "```\n",
        "else:\n",
        "    predict = random.randint(0, 1)\n",
        "```\n",
        "\n",
        "Essentially, if the item in the second column is `1`, then return the item stored in the first column as the predicted value. Else, predict `0` or `1` randomly."
      ]
    },
    {
      "cell_type": "code",
      "metadata": {
        "id": "vDJJRnrjKaEC",
        "colab_type": "code",
        "colab": {}
      },
      "source": [
        "# Create the 'prediction()' function which returns the predicted value.\n",
        "def prediction():\n",
        "  if inputs[last_2][last_1][1] == 1: \n",
        "    predict = inputs[last_2][last_1][0]    \n",
        "  else:\n",
        "    predict = random.randint(0, 1)  \n",
        "  return predict"
      ],
      "execution_count": null,
      "outputs": []
    },
    {
      "cell_type": "markdown",
      "metadata": {
        "id": "ipMiJfsTc4h4",
        "colab_type": "text"
      },
      "source": [
        "---"
      ]
    },
    {
      "cell_type": "markdown",
      "metadata": {
        "colab_type": "text",
        "id": "ETmWmRMHhrvc"
      },
      "source": [
        "#### Activity 1: The `update_scores()` Function\n",
        "\n",
        "Next, we need to create the `update_scores()` function that we created in the first few classes. It should take the `predicted` and the current `player_input` values as an input and then update the scores for both the computer and the player at every player input. It should also print the current scores at every player input.\n",
        "\n",
        "To keep the scores, instead of creating two separate variables for the computer and the player, we will create a list. *The first item in the list will represent the computer score and the second item will represent the player score.*\n",
        "\n",
        "Initially, both the items in the `scores` list will be zero. At every player input, the scores should get updated."
      ]
    },
    {
      "cell_type": "code",
      "metadata": {
        "colab_type": "code",
        "id": "Wlomn5gAhrgG",
        "colab": {}
      },
      "source": [
        "# Student Action: Create the 'update_scores()' function to keep the scores for both the computer and the player. It should not return anything.\n"
      ],
      "execution_count": null,
      "outputs": []
    },
    {
      "cell_type": "markdown",
      "metadata": {
        "id": "IYuskDGYjiSp",
        "colab_type": "text"
      },
      "source": [
        "---"
      ]
    },
    {
      "cell_type": "markdown",
      "metadata": {
        "id": "iGRn-kJmDqZe",
        "colab_type": "text"
      },
      "source": [
        "#### Activity 2: The `reset()` Function^^\n",
        "\n",
        "Now let's create a function which resets the `inputs` array items and `scores` list to `0`. The `inputs` array values and the `scores` list values must be reset to `0` before a player plays the game again. Otherwise, it will not be a fair game to the player.\n",
        "\n",
        "Moreover, if a player stops playing the game before finishing it, then also the `inputs` array and the `scores` list will have some values stored in it. So, before restarting the game, the `inputs` array values and the `scores` values must be reset to zero."
      ]
    },
    {
      "cell_type": "code",
      "metadata": {
        "id": "33rHBuc1L7Ww",
        "colab_type": "code",
        "colab": {}
      },
      "source": [
        "# Student Action: Create the 'reset()' function which resets the values of the 'inputs' items to 0.\n"
      ],
      "execution_count": null,
      "outputs": []
    },
    {
      "cell_type": "markdown",
      "metadata": {
        "id": "ICN5SalGIKoI",
        "colab_type": "text"
      },
      "source": [
        "---"
      ]
    },
    {
      "cell_type": "markdown",
      "metadata": {
        "id": "JuHGxZn9aXJI",
        "colab_type": "text"
      },
      "source": [
        "#### Activity 3: Putting Everything Together^\n",
        "\n",
        "Now put all the components of the Mind Reader game algorithm in one place."
      ]
    },
    {
      "cell_type": "code",
      "metadata": {
        "id": "1k22BieyBUCl",
        "colab_type": "code",
        "colab": {}
      },
      "source": [
        "# Student Action: Put all the functions and variables of the Mind Reader game algorithm here.\n"
      ],
      "execution_count": null,
      "outputs": []
    },
    {
      "cell_type": "markdown",
      "metadata": {
        "id": "rmiJ2qcpvHJa",
        "colab_type": "text"
      },
      "source": [
        "---"
      ]
    },
    {
      "cell_type": "markdown",
      "metadata": {
        "id": "KOeUgF8kvH4q",
        "colab_type": "text"
      },
      "source": [
        "#### Activity 4: The `gameplay()` Function^^^\n",
        "\n",
        "Now, let's create the `gameplay()` function to run the Mind Reader game. We have used this function many times in earlier classes. There is no major change in it. However, it should first execute the `reset()` function so that whenever a player plays this game again, it should reset the `inputs` values and the `scores` values.\n",
        "\n",
        "\n",
        "For the testing purpose, let's run the Mind Reader game till either the player or the computer has reached a score of 20 points. If we run this game till 50 points, then the testing will take a very long time. Later you can change the scoring to 50 points."
      ]
    },
    {
      "cell_type": "code",
      "metadata": {
        "id": "AdiwBplXCXfK",
        "colab_type": "code",
        "colab": {}
      },
      "source": [
        "# Student Action: Create the 'gameplay()' function.\n"
      ],
      "execution_count": null,
      "outputs": []
    },
    {
      "cell_type": "markdown",
      "metadata": {
        "id": "b7HKTfwQwWnf",
        "colab_type": "text"
      },
      "source": [
        "Now, run the game by executing the `gameplay()` function."
      ]
    },
    {
      "cell_type": "code",
      "metadata": {
        "id": "PDSE2tF_C129",
        "colab_type": "code",
        "colab": {}
      },
      "source": [
        "# Student Action: Run the game by executing the 'gameplay()' function.\n"
      ],
      "execution_count": null,
      "outputs": []
    },
    {
      "cell_type": "markdown",
      "metadata": {
        "id": "HMGBOxI_FAmk",
        "colab_type": "text"
      },
      "source": [
        "Finally, we have implemented the algorithm for the Mind Reader game which you played in the trial class to allow a computer to predict a player's next move accurately."
      ]
    },
    {
      "cell_type": "markdown",
      "metadata": {
        "id": "YigbTCM4QXVr",
        "colab_type": "text"
      },
      "source": [
        "---"
      ]
    }
  ]
}